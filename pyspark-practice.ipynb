{
 "cells": [
  {
   "cell_type": "code",
   "execution_count": 1,
   "id": "af7137ee",
   "metadata": {
    "_cell_guid": "b1076dfc-b9ad-4769-8c92-a6c4dae69d19",
    "_uuid": "8f2839f25d086af736a60e9eeb907d3b93b6e0e5",
    "execution": {
     "iopub.execute_input": "2025-08-24T19:28:50.067855Z",
     "iopub.status.busy": "2025-08-24T19:28:50.067528Z",
     "iopub.status.idle": "2025-08-24T19:28:52.574547Z",
     "shell.execute_reply": "2025-08-24T19:28:52.573759Z"
    },
    "papermill": {
     "duration": 2.514078,
     "end_time": "2025-08-24T19:28:52.576440",
     "exception": false,
     "start_time": "2025-08-24T19:28:50.062362",
     "status": "completed"
    },
    "tags": []
   },
   "outputs": [],
   "source": [
    "from pyspark.sql import SparkSession\n",
    "import pandas as pd"
   ]
  },
  {
   "cell_type": "markdown",
   "id": "c4fa71e1",
   "metadata": {
    "papermill": {
     "duration": 0.003129,
     "end_time": "2025-08-24T19:28:52.583446",
     "exception": false,
     "start_time": "2025-08-24T19:28:52.580317",
     "status": "completed"
    },
    "tags": []
   },
   "source": [
    "## Opening CSV file in Pandas"
   ]
  },
  {
   "cell_type": "code",
   "execution_count": 2,
   "id": "677717b0",
   "metadata": {
    "execution": {
     "iopub.execute_input": "2025-08-24T19:28:52.591432Z",
     "iopub.status.busy": "2025-08-24T19:28:52.590999Z",
     "iopub.status.idle": "2025-08-24T19:28:52.675184Z",
     "shell.execute_reply": "2025-08-24T19:28:52.674162Z"
    },
    "papermill": {
     "duration": 0.090008,
     "end_time": "2025-08-24T19:28:52.676899",
     "exception": false,
     "start_time": "2025-08-24T19:28:52.586891",
     "status": "completed"
    },
    "tags": []
   },
   "outputs": [
    {
     "data": {
      "text/html": [
       "<div>\n",
       "<style scoped>\n",
       "    .dataframe tbody tr th:only-of-type {\n",
       "        vertical-align: middle;\n",
       "    }\n",
       "\n",
       "    .dataframe tbody tr th {\n",
       "        vertical-align: top;\n",
       "    }\n",
       "\n",
       "    .dataframe thead th {\n",
       "        text-align: right;\n",
       "    }\n",
       "</style>\n",
       "<table border=\"1\" class=\"dataframe\">\n",
       "  <thead>\n",
       "    <tr style=\"text-align: right;\">\n",
       "      <th></th>\n",
       "      <th>Education</th>\n",
       "      <th>JoiningYear</th>\n",
       "      <th>City</th>\n",
       "      <th>PaymentTier</th>\n",
       "      <th>Age</th>\n",
       "      <th>Gender</th>\n",
       "      <th>EverBenched</th>\n",
       "      <th>ExperienceInCurrentDomain</th>\n",
       "      <th>LeaveOrNot</th>\n",
       "    </tr>\n",
       "  </thead>\n",
       "  <tbody>\n",
       "    <tr>\n",
       "      <th>0</th>\n",
       "      <td>Bachelors</td>\n",
       "      <td>2017</td>\n",
       "      <td>Bangalore</td>\n",
       "      <td>3</td>\n",
       "      <td>34</td>\n",
       "      <td>Male</td>\n",
       "      <td>No</td>\n",
       "      <td>0</td>\n",
       "      <td>0</td>\n",
       "    </tr>\n",
       "    <tr>\n",
       "      <th>1</th>\n",
       "      <td>Bachelors</td>\n",
       "      <td>2013</td>\n",
       "      <td>Pune</td>\n",
       "      <td>1</td>\n",
       "      <td>28</td>\n",
       "      <td>Female</td>\n",
       "      <td>No</td>\n",
       "      <td>3</td>\n",
       "      <td>1</td>\n",
       "    </tr>\n",
       "    <tr>\n",
       "      <th>2</th>\n",
       "      <td>Bachelors</td>\n",
       "      <td>2014</td>\n",
       "      <td>New Delhi</td>\n",
       "      <td>3</td>\n",
       "      <td>38</td>\n",
       "      <td>Female</td>\n",
       "      <td>No</td>\n",
       "      <td>2</td>\n",
       "      <td>0</td>\n",
       "    </tr>\n",
       "    <tr>\n",
       "      <th>3</th>\n",
       "      <td>Masters</td>\n",
       "      <td>2016</td>\n",
       "      <td>Bangalore</td>\n",
       "      <td>3</td>\n",
       "      <td>27</td>\n",
       "      <td>Male</td>\n",
       "      <td>No</td>\n",
       "      <td>5</td>\n",
       "      <td>1</td>\n",
       "    </tr>\n",
       "    <tr>\n",
       "      <th>4</th>\n",
       "      <td>Masters</td>\n",
       "      <td>2017</td>\n",
       "      <td>Pune</td>\n",
       "      <td>3</td>\n",
       "      <td>24</td>\n",
       "      <td>Male</td>\n",
       "      <td>Yes</td>\n",
       "      <td>2</td>\n",
       "      <td>1</td>\n",
       "    </tr>\n",
       "    <tr>\n",
       "      <th>...</th>\n",
       "      <td>...</td>\n",
       "      <td>...</td>\n",
       "      <td>...</td>\n",
       "      <td>...</td>\n",
       "      <td>...</td>\n",
       "      <td>...</td>\n",
       "      <td>...</td>\n",
       "      <td>...</td>\n",
       "      <td>...</td>\n",
       "    </tr>\n",
       "    <tr>\n",
       "      <th>4648</th>\n",
       "      <td>Bachelors</td>\n",
       "      <td>2013</td>\n",
       "      <td>Bangalore</td>\n",
       "      <td>3</td>\n",
       "      <td>26</td>\n",
       "      <td>Female</td>\n",
       "      <td>No</td>\n",
       "      <td>4</td>\n",
       "      <td>0</td>\n",
       "    </tr>\n",
       "    <tr>\n",
       "      <th>4649</th>\n",
       "      <td>Masters</td>\n",
       "      <td>2013</td>\n",
       "      <td>Pune</td>\n",
       "      <td>2</td>\n",
       "      <td>37</td>\n",
       "      <td>Male</td>\n",
       "      <td>No</td>\n",
       "      <td>2</td>\n",
       "      <td>1</td>\n",
       "    </tr>\n",
       "    <tr>\n",
       "      <th>4650</th>\n",
       "      <td>Masters</td>\n",
       "      <td>2018</td>\n",
       "      <td>New Delhi</td>\n",
       "      <td>3</td>\n",
       "      <td>27</td>\n",
       "      <td>Male</td>\n",
       "      <td>No</td>\n",
       "      <td>5</td>\n",
       "      <td>1</td>\n",
       "    </tr>\n",
       "    <tr>\n",
       "      <th>4651</th>\n",
       "      <td>Bachelors</td>\n",
       "      <td>2012</td>\n",
       "      <td>Bangalore</td>\n",
       "      <td>3</td>\n",
       "      <td>30</td>\n",
       "      <td>Male</td>\n",
       "      <td>Yes</td>\n",
       "      <td>2</td>\n",
       "      <td>0</td>\n",
       "    </tr>\n",
       "    <tr>\n",
       "      <th>4652</th>\n",
       "      <td>Bachelors</td>\n",
       "      <td>2015</td>\n",
       "      <td>Bangalore</td>\n",
       "      <td>3</td>\n",
       "      <td>33</td>\n",
       "      <td>Male</td>\n",
       "      <td>Yes</td>\n",
       "      <td>4</td>\n",
       "      <td>0</td>\n",
       "    </tr>\n",
       "  </tbody>\n",
       "</table>\n",
       "<p>4653 rows × 9 columns</p>\n",
       "</div>"
      ],
      "text/plain": [
       "      Education  JoiningYear       City  PaymentTier  Age  Gender EverBenched  \\\n",
       "0     Bachelors         2017  Bangalore            3   34    Male          No   \n",
       "1     Bachelors         2013       Pune            1   28  Female          No   \n",
       "2     Bachelors         2014  New Delhi            3   38  Female          No   \n",
       "3       Masters         2016  Bangalore            3   27    Male          No   \n",
       "4       Masters         2017       Pune            3   24    Male         Yes   \n",
       "...         ...          ...        ...          ...  ...     ...         ...   \n",
       "4648  Bachelors         2013  Bangalore            3   26  Female          No   \n",
       "4649    Masters         2013       Pune            2   37    Male          No   \n",
       "4650    Masters         2018  New Delhi            3   27    Male          No   \n",
       "4651  Bachelors         2012  Bangalore            3   30    Male         Yes   \n",
       "4652  Bachelors         2015  Bangalore            3   33    Male         Yes   \n",
       "\n",
       "      ExperienceInCurrentDomain  LeaveOrNot  \n",
       "0                             0           0  \n",
       "1                             3           1  \n",
       "2                             2           0  \n",
       "3                             5           1  \n",
       "4                             2           1  \n",
       "...                         ...         ...  \n",
       "4648                          4           0  \n",
       "4649                          2           1  \n",
       "4650                          5           1  \n",
       "4651                          2           0  \n",
       "4652                          4           0  \n",
       "\n",
       "[4653 rows x 9 columns]"
      ]
     },
     "execution_count": 2,
     "metadata": {},
     "output_type": "execute_result"
    }
   ],
   "source": [
    "pd_df = pd.read_csv('/kaggle/input/employee-dataset/Employee.csv')\n",
    "pd_df"
   ]
  },
  {
   "cell_type": "code",
   "execution_count": 3,
   "id": "9709ad49",
   "metadata": {
    "execution": {
     "iopub.execute_input": "2025-08-24T19:28:52.685754Z",
     "iopub.status.busy": "2025-08-24T19:28:52.685421Z",
     "iopub.status.idle": "2025-08-24T19:28:52.692679Z",
     "shell.execute_reply": "2025-08-24T19:28:52.691649Z"
    },
    "papermill": {
     "duration": 0.013459,
     "end_time": "2025-08-24T19:28:52.694321",
     "exception": false,
     "start_time": "2025-08-24T19:28:52.680862",
     "status": "completed"
    },
    "tags": []
   },
   "outputs": [
    {
     "data": {
      "text/plain": [
       "Education                    object\n",
       "JoiningYear                   int64\n",
       "City                         object\n",
       "PaymentTier                   int64\n",
       "Age                           int64\n",
       "Gender                       object\n",
       "EverBenched                  object\n",
       "ExperienceInCurrentDomain     int64\n",
       "LeaveOrNot                    int64\n",
       "dtype: object"
      ]
     },
     "execution_count": 3,
     "metadata": {},
     "output_type": "execute_result"
    }
   ],
   "source": [
    "pd_df.dtypes"
   ]
  },
  {
   "cell_type": "markdown",
   "id": "41e383f4",
   "metadata": {
    "papermill": {
     "duration": 0.003573,
     "end_time": "2025-08-24T19:28:52.702025",
     "exception": false,
     "start_time": "2025-08-24T19:28:52.698452",
     "status": "completed"
    },
    "tags": []
   },
   "source": [
    "## Opening CSV file in Spark"
   ]
  },
  {
   "cell_type": "code",
   "execution_count": 4,
   "id": "ae8ac98e",
   "metadata": {
    "execution": {
     "iopub.execute_input": "2025-08-24T19:28:52.710757Z",
     "iopub.status.busy": "2025-08-24T19:28:52.710380Z",
     "iopub.status.idle": "2025-08-24T19:29:02.004552Z",
     "shell.execute_reply": "2025-08-24T19:29:02.003408Z"
    },
    "papermill": {
     "duration": 9.300695,
     "end_time": "2025-08-24T19:29:02.006369",
     "exception": false,
     "start_time": "2025-08-24T19:28:52.705674",
     "status": "completed"
    },
    "tags": []
   },
   "outputs": [
    {
     "name": "stderr",
     "output_type": "stream",
     "text": [
      "Setting default log level to \"WARN\".\n",
      "To adjust logging level use sc.setLogLevel(newLevel). For SparkR, use setLogLevel(newLevel).\n",
      "25/08/24 19:28:57 WARN NativeCodeLoader: Unable to load native-hadoop library for your platform... using builtin-java classes where applicable\n"
     ]
    },
    {
     "data": {
      "text/html": [
       "\n",
       "            <div>\n",
       "                <p><b>SparkSession - in-memory</b></p>\n",
       "                \n",
       "        <div>\n",
       "            <p><b>SparkContext</b></p>\n",
       "\n",
       "            <p><a href=\"http://e1af4a440506:4040\">Spark UI</a></p>\n",
       "\n",
       "            <dl>\n",
       "              <dt>Version</dt>\n",
       "                <dd><code>v3.5.1</code></dd>\n",
       "              <dt>Master</dt>\n",
       "                <dd><code>local[*]</code></dd>\n",
       "              <dt>AppName</dt>\n",
       "                <dd><code>PySpark Practice</code></dd>\n",
       "            </dl>\n",
       "        </div>\n",
       "        \n",
       "            </div>\n",
       "        "
      ],
      "text/plain": [
       "<pyspark.sql.session.SparkSession at 0x7fb71f61ef10>"
      ]
     },
     "execution_count": 4,
     "metadata": {},
     "output_type": "execute_result"
    }
   ],
   "source": [
    "spark = (\n",
    "    SparkSession\n",
    "        .builder\n",
    "        .appName('PySpark Practice')\n",
    "        .master('local[*]')\n",
    "        .getOrCreate()\n",
    ")\n",
    "\n",
    "spark"
   ]
  },
  {
   "cell_type": "code",
   "execution_count": 5,
   "id": "2625826b",
   "metadata": {
    "execution": {
     "iopub.execute_input": "2025-08-24T19:29:02.017015Z",
     "iopub.status.busy": "2025-08-24T19:29:02.016502Z",
     "iopub.status.idle": "2025-08-24T19:29:08.729954Z",
     "shell.execute_reply": "2025-08-24T19:29:08.729063Z"
    },
    "papermill": {
     "duration": 6.720854,
     "end_time": "2025-08-24T19:29:08.731776",
     "exception": false,
     "start_time": "2025-08-24T19:29:02.010922",
     "status": "completed"
    },
    "tags": []
   },
   "outputs": [
    {
     "data": {
      "text/plain": [
       "DataFrame[Education: string, JoiningYear: int, City: string, PaymentTier: int, Age: int, Gender: string, EverBenched: string, ExperienceInCurrentDomain: int, LeaveOrNot: int]"
      ]
     },
     "execution_count": 5,
     "metadata": {},
     "output_type": "execute_result"
    }
   ],
   "source": [
    "df = spark.read.format(\"csv\").option(\"header\", True).option(\"inferSchema\", True).load('/kaggle/input/employee-dataset/Employee.csv')\n",
    "df"
   ]
  },
  {
   "cell_type": "code",
   "execution_count": 6,
   "id": "4f7714e6",
   "metadata": {
    "execution": {
     "iopub.execute_input": "2025-08-24T19:29:08.746449Z",
     "iopub.status.busy": "2025-08-24T19:29:08.746062Z",
     "iopub.status.idle": "2025-08-24T19:29:08.755912Z",
     "shell.execute_reply": "2025-08-24T19:29:08.754769Z"
    },
    "papermill": {
     "duration": 0.019266,
     "end_time": "2025-08-24T19:29:08.757607",
     "exception": false,
     "start_time": "2025-08-24T19:29:08.738341",
     "status": "completed"
    },
    "tags": []
   },
   "outputs": [
    {
     "name": "stdout",
     "output_type": "stream",
     "text": [
      "root\n",
      " |-- Education: string (nullable = true)\n",
      " |-- JoiningYear: integer (nullable = true)\n",
      " |-- City: string (nullable = true)\n",
      " |-- PaymentTier: integer (nullable = true)\n",
      " |-- Age: integer (nullable = true)\n",
      " |-- Gender: string (nullable = true)\n",
      " |-- EverBenched: string (nullable = true)\n",
      " |-- ExperienceInCurrentDomain: integer (nullable = true)\n",
      " |-- LeaveOrNot: integer (nullable = true)\n",
      "\n"
     ]
    }
   ],
   "source": [
    "df.printSchema()"
   ]
  },
  {
   "cell_type": "code",
   "execution_count": 7,
   "id": "3e0b4d0f",
   "metadata": {
    "execution": {
     "iopub.execute_input": "2025-08-24T19:29:08.772559Z",
     "iopub.status.busy": "2025-08-24T19:29:08.771614Z",
     "iopub.status.idle": "2025-08-24T19:29:09.260723Z",
     "shell.execute_reply": "2025-08-24T19:29:09.258340Z"
    },
    "papermill": {
     "duration": 0.499617,
     "end_time": "2025-08-24T19:29:09.263824",
     "exception": false,
     "start_time": "2025-08-24T19:29:08.764207",
     "status": "completed"
    },
    "tags": []
   },
   "outputs": [
    {
     "name": "stdout",
     "output_type": "stream",
     "text": [
      "+---------+-----------+---------+-----------+---+------+-----------+-------------------------+----------+\n",
      "|Education|JoiningYear|     City|PaymentTier|Age|Gender|EverBenched|ExperienceInCurrentDomain|LeaveOrNot|\n",
      "+---------+-----------+---------+-----------+---+------+-----------+-------------------------+----------+\n",
      "|Bachelors|       2017|Bangalore|          3| 34|  Male|         No|                        0|         0|\n",
      "|Bachelors|       2013|     Pune|          1| 28|Female|         No|                        3|         1|\n",
      "|Bachelors|       2014|New Delhi|          3| 38|Female|         No|                        2|         0|\n",
      "|  Masters|       2016|Bangalore|          3| 27|  Male|         No|                        5|         1|\n",
      "|  Masters|       2017|     Pune|          3| 24|  Male|        Yes|                        2|         1|\n",
      "|Bachelors|       2016|Bangalore|          3| 22|  Male|         No|                        0|         0|\n",
      "|Bachelors|       2015|New Delhi|          3| 38|  Male|         No|                        0|         0|\n",
      "|Bachelors|       2016|Bangalore|          3| 34|Female|         No|                        2|         1|\n",
      "|Bachelors|       2016|     Pune|          3| 23|  Male|         No|                        1|         0|\n",
      "|  Masters|       2017|New Delhi|          2| 37|  Male|         No|                        2|         0|\n",
      "|  Masters|       2012|Bangalore|          3| 27|  Male|         No|                        5|         1|\n",
      "|Bachelors|       2016|     Pune|          3| 34|  Male|         No|                        3|         0|\n",
      "|Bachelors|       2018|     Pune|          3| 32|  Male|        Yes|                        5|         1|\n",
      "|Bachelors|       2016|Bangalore|          3| 39|  Male|         No|                        2|         0|\n",
      "|Bachelors|       2012|Bangalore|          3| 37|  Male|         No|                        4|         0|\n",
      "|Bachelors|       2017|Bangalore|          1| 29|  Male|         No|                        3|         0|\n",
      "|Bachelors|       2014|Bangalore|          3| 34|Female|         No|                        2|         0|\n",
      "|Bachelors|       2014|     Pune|          3| 34|  Male|         No|                        4|         0|\n",
      "|Bachelors|       2015|     Pune|          2| 30|Female|         No|                        0|         1|\n",
      "|Bachelors|       2016|New Delhi|          2| 22|Female|         No|                        0|         1|\n",
      "+---------+-----------+---------+-----------+---+------+-----------+-------------------------+----------+\n",
      "only showing top 20 rows\n",
      "\n"
     ]
    }
   ],
   "source": [
    "df.show()"
   ]
  },
  {
   "cell_type": "code",
   "execution_count": 8,
   "id": "0d5a0d13",
   "metadata": {
    "execution": {
     "iopub.execute_input": "2025-08-24T19:29:09.282388Z",
     "iopub.status.busy": "2025-08-24T19:29:09.281997Z",
     "iopub.status.idle": "2025-08-24T19:29:09.369636Z",
     "shell.execute_reply": "2025-08-24T19:29:09.368742Z"
    },
    "papermill": {
     "duration": 0.097988,
     "end_time": "2025-08-24T19:29:09.371454",
     "exception": false,
     "start_time": "2025-08-24T19:29:09.273466",
     "status": "completed"
    },
    "tags": []
   },
   "outputs": [
    {
     "data": {
      "text/plain": [
       "1"
      ]
     },
     "execution_count": 8,
     "metadata": {},
     "output_type": "execute_result"
    }
   ],
   "source": [
    "df.rdd.getNumPartitions()"
   ]
  },
  {
   "cell_type": "code",
   "execution_count": 9,
   "id": "1c3fc237",
   "metadata": {
    "execution": {
     "iopub.execute_input": "2025-08-24T19:29:09.387445Z",
     "iopub.status.busy": "2025-08-24T19:29:09.386606Z",
     "iopub.status.idle": "2025-08-24T19:29:09.442257Z",
     "shell.execute_reply": "2025-08-24T19:29:09.441069Z"
    },
    "papermill": {
     "duration": 0.066161,
     "end_time": "2025-08-24T19:29:09.444709",
     "exception": false,
     "start_time": "2025-08-24T19:29:09.378548",
     "status": "completed"
    },
    "tags": []
   },
   "outputs": [
    {
     "data": {
      "text/plain": [
       "DataFrame[Education: string, JoiningYear: int, City: string, PaymentTier: int, Age: int, Gender: string, EverBenched: string, ExperienceInCurrentDomain: int, LeaveOrNot: int]"
      ]
     },
     "execution_count": 9,
     "metadata": {},
     "output_type": "execute_result"
    }
   ],
   "source": [
    "df_filtered = df.where(\"Age > 30\")\n",
    "df_filtered"
   ]
  },
  {
   "cell_type": "markdown",
   "id": "056f86a4",
   "metadata": {
    "papermill": {
     "duration": 0.006254,
     "end_time": "2025-08-24T19:29:09.458097",
     "exception": false,
     "start_time": "2025-08-24T19:29:09.451843",
     "status": "completed"
    },
    "tags": []
   },
   "source": [
    "- #### Data only shows up when collected"
   ]
  },
  {
   "cell_type": "code",
   "execution_count": 10,
   "id": "43283a1b",
   "metadata": {
    "execution": {
     "iopub.execute_input": "2025-08-24T19:29:09.473764Z",
     "iopub.status.busy": "2025-08-24T19:29:09.472849Z",
     "iopub.status.idle": "2025-08-24T19:29:09.841560Z",
     "shell.execute_reply": "2025-08-24T19:29:09.840769Z"
    },
    "papermill": {
     "duration": 0.379836,
     "end_time": "2025-08-24T19:29:09.844715",
     "exception": false,
     "start_time": "2025-08-24T19:29:09.464879",
     "status": "completed"
    },
    "tags": []
   },
   "outputs": [
    {
     "name": "stdout",
     "output_type": "stream",
     "text": [
      "+---------+-----------+---------+-----------+---+------+-----------+-------------------------+----------+\n",
      "|Education|JoiningYear|     City|PaymentTier|Age|Gender|EverBenched|ExperienceInCurrentDomain|LeaveOrNot|\n",
      "+---------+-----------+---------+-----------+---+------+-----------+-------------------------+----------+\n",
      "|Bachelors|       2017|Bangalore|          3| 34|  Male|         No|                        0|         0|\n",
      "|Bachelors|       2014|New Delhi|          3| 38|Female|         No|                        2|         0|\n",
      "|Bachelors|       2015|New Delhi|          3| 38|  Male|         No|                        0|         0|\n",
      "|Bachelors|       2016|Bangalore|          3| 34|Female|         No|                        2|         1|\n",
      "|  Masters|       2017|New Delhi|          2| 37|  Male|         No|                        2|         0|\n",
      "|Bachelors|       2016|     Pune|          3| 34|  Male|         No|                        3|         0|\n",
      "|Bachelors|       2018|     Pune|          3| 32|  Male|        Yes|                        5|         1|\n",
      "|Bachelors|       2016|Bangalore|          3| 39|  Male|         No|                        2|         0|\n",
      "|Bachelors|       2012|Bangalore|          3| 37|  Male|         No|                        4|         0|\n",
      "|Bachelors|       2014|Bangalore|          3| 34|Female|         No|                        2|         0|\n",
      "|Bachelors|       2014|     Pune|          3| 34|  Male|         No|                        4|         0|\n",
      "|Bachelors|       2012|Bangalore|          3| 37|  Male|         No|                        0|         0|\n",
      "|Bachelors|       2017|New Delhi|          2| 36|  Male|         No|                        3|         0|\n",
      "|Bachelors|       2016|Bangalore|          3| 37|  Male|         No|                        2|         0|\n",
      "|Bachelors|       2013|     Pune|          2| 31|Female|         No|                        2|         1|\n",
      "|Bachelors|       2016|Bangalore|          3| 40|  Male|         No|                        5|         0|\n",
      "|Bachelors|       2017|     Pune|          2| 37|Female|         No|                        0|         1|\n",
      "|Bachelors|       2018|New Delhi|          2| 34|Female|         No|                        0|         1|\n",
      "|Bachelors|       2015|Bangalore|          3| 36|  Male|         No|                        1|         0|\n",
      "|Bachelors|       2014|Bangalore|          3| 36|  Male|         No|                        0|         0|\n",
      "+---------+-----------+---------+-----------+---+------+-----------+-------------------------+----------+\n",
      "only showing top 20 rows\n",
      "\n"
     ]
    }
   ],
   "source": [
    "df_filtered.show()"
   ]
  },
  {
   "cell_type": "code",
   "execution_count": 11,
   "id": "7a4fe628",
   "metadata": {
    "execution": {
     "iopub.execute_input": "2025-08-24T19:29:09.861545Z",
     "iopub.status.busy": "2025-08-24T19:29:09.860821Z",
     "iopub.status.idle": "2025-08-24T19:29:10.635878Z",
     "shell.execute_reply": "2025-08-24T19:29:10.634923Z"
    },
    "papermill": {
     "duration": 0.785606,
     "end_time": "2025-08-24T19:29:10.638054",
     "exception": false,
     "start_time": "2025-08-24T19:29:09.852448",
     "status": "completed"
    },
    "tags": []
   },
   "outputs": [],
   "source": [
    "df_filtered.write.format('csv').save('/kaggle/working/df_filtered.csv')"
   ]
  },
  {
   "cell_type": "code",
   "execution_count": 12,
   "id": "d47c60a8",
   "metadata": {
    "execution": {
     "iopub.execute_input": "2025-08-24T19:29:10.654455Z",
     "iopub.status.busy": "2025-08-24T19:29:10.654044Z",
     "iopub.status.idle": "2025-08-24T19:29:10.668852Z",
     "shell.execute_reply": "2025-08-24T19:29:10.667767Z"
    },
    "papermill": {
     "duration": 0.024861,
     "end_time": "2025-08-24T19:29:10.670601",
     "exception": false,
     "start_time": "2025-08-24T19:29:10.645740",
     "status": "completed"
    },
    "tags": []
   },
   "outputs": [
    {
     "data": {
      "text/plain": [
       "(Column<'City'>, Column<'Age'>)"
      ]
     },
     "execution_count": 12,
     "metadata": {},
     "output_type": "execute_result"
    }
   ],
   "source": [
    "df.City, df['Age']"
   ]
  },
  {
   "cell_type": "code",
   "execution_count": 13,
   "id": "b3cd9eff",
   "metadata": {
    "execution": {
     "iopub.execute_input": "2025-08-24T19:29:10.682079Z",
     "iopub.status.busy": "2025-08-24T19:29:10.681651Z",
     "iopub.status.idle": "2025-08-24T19:29:10.933442Z",
     "shell.execute_reply": "2025-08-24T19:29:10.932594Z"
    },
    "papermill": {
     "duration": 0.259851,
     "end_time": "2025-08-24T19:29:10.935151",
     "exception": false,
     "start_time": "2025-08-24T19:29:10.675300",
     "status": "completed"
    },
    "tags": []
   },
   "outputs": [
    {
     "name": "stdout",
     "output_type": "stream",
     "text": [
      "+---------+---+\n",
      "|     City|Age|\n",
      "+---------+---+\n",
      "|Bangalore| 34|\n",
      "|     Pune| 28|\n",
      "|New Delhi| 38|\n",
      "|Bangalore| 27|\n",
      "|     Pune| 24|\n",
      "|Bangalore| 22|\n",
      "|New Delhi| 38|\n",
      "|Bangalore| 34|\n",
      "|     Pune| 23|\n",
      "|New Delhi| 37|\n",
      "|Bangalore| 27|\n",
      "|     Pune| 34|\n",
      "|     Pune| 32|\n",
      "|Bangalore| 39|\n",
      "|Bangalore| 37|\n",
      "|Bangalore| 29|\n",
      "|Bangalore| 34|\n",
      "|     Pune| 34|\n",
      "|     Pune| 30|\n",
      "|New Delhi| 22|\n",
      "+---------+---+\n",
      "only showing top 20 rows\n",
      "\n"
     ]
    }
   ],
   "source": [
    "df.select(df.City, df['Age']).show()"
   ]
  },
  {
   "cell_type": "code",
   "execution_count": null,
   "id": "ea0d7fc2",
   "metadata": {
    "papermill": {
     "duration": 0.004238,
     "end_time": "2025-08-24T19:29:10.944064",
     "exception": false,
     "start_time": "2025-08-24T19:29:10.939826",
     "status": "completed"
    },
    "tags": []
   },
   "outputs": [],
   "source": []
  },
  {
   "cell_type": "code",
   "execution_count": null,
   "id": "0a06fd24",
   "metadata": {
    "papermill": {
     "duration": 0.004161,
     "end_time": "2025-08-24T19:29:10.952677",
     "exception": false,
     "start_time": "2025-08-24T19:29:10.948516",
     "status": "completed"
    },
    "tags": []
   },
   "outputs": [],
   "source": []
  }
 ],
 "metadata": {
  "kaggle": {
   "accelerator": "none",
   "dataSources": [
    {
     "datasetId": 3707753,
     "sourceId": 6426550,
     "sourceType": "datasetVersion"
    }
   ],
   "dockerImageVersionId": 31089,
   "isGpuEnabled": false,
   "isInternetEnabled": true,
   "language": "python",
   "sourceType": "notebook"
  },
  "kernelspec": {
   "display_name": "Python 3",
   "language": "python",
   "name": "python3"
  },
  "language_info": {
   "codemirror_mode": {
    "name": "ipython",
    "version": 3
   },
   "file_extension": ".py",
   "mimetype": "text/x-python",
   "name": "python",
   "nbconvert_exporter": "python",
   "pygments_lexer": "ipython3",
   "version": "3.11.13"
  },
  "papermill": {
   "default_parameters": {},
   "duration": 28.984225,
   "end_time": "2025-08-24T19:29:13.576686",
   "environment_variables": {},
   "exception": null,
   "input_path": "__notebook__.ipynb",
   "output_path": "__notebook__.ipynb",
   "parameters": {},
   "start_time": "2025-08-24T19:28:44.592461",
   "version": "2.6.0"
  }
 },
 "nbformat": 4,
 "nbformat_minor": 5
}
